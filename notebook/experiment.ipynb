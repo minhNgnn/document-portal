{
 "cells": [
  {
   "cell_type": "code",
   "execution_count": 3,
   "id": "62d723cf",
   "metadata": {},
   "outputs": [
    {
     "data": {
      "text/plain": [
       "True"
      ]
     },
     "execution_count": 3,
     "metadata": {},
     "output_type": "execute_result"
    }
   ],
   "source": [
    "from langchain_groq import ChatGroq\n",
    "from dotenv import load_dotenv\n",
    "load_dotenv()"
   ]
  },
  {
   "cell_type": "code",
   "execution_count": 4,
   "id": "ff493158",
   "metadata": {},
   "outputs": [
    {
     "name": "stdout",
     "output_type": "stream",
     "text": [
      "<think>\n",
      "Okay, so I need to figure out the capital of France. Hmm, I think I remember learning this in school, but I'm not entirely sure. Let me try to recall. France is a country in Europe, right? And capitals are the main cities where the government is located. \n",
      "\n",
      "I remember that Paris is a very famous city, known for things like the Eiffel Tower, the Louvre Museum, and Notre-Dame. Those are all big landmarks, so maybe Paris is the capital. But wait, I should double-check because sometimes the most famous city isn't always the capital. For example, in the Netherlands, Amsterdam is the biggest city, but The Hague is where the government is.\n",
      "\n",
      "So, to be sure, I can think about other European capitals. London is the capital of the UK, Berlin for Germany, Madrid for Spain, Rome for Italy. Paris does come up often when talking about France. Also, I think the French government is in Paris. The Elysée Palace, where the President lives, is there. So that makes sense.\n",
      "\n",
      "Another way to confirm is to think about movies or media. Often in movies, Paris is depicted as the center of France's political activities. Plus, when international news talks about the French government, they often mention Paris. So putting all this together, I'm pretty confident that Paris is the capital of France.\n",
      "\n",
      "I don't think I'm confusing it with any other city. Lyon and Marseille are other big cities in France, but they aren't capitals. So yeah, Paris must be the capital.\n",
      "</think>\n",
      "\n",
      "The capital of France is Paris. This conclusion is supported by Paris being the political center, home to significant landmarks like the Eiffel Tower, and frequent mentions in media and government contexts. Other major French cities like Lyon and Marseille are not capitals. \n",
      "\n",
      "**Answer:** Paris\n"
     ]
    }
   ],
   "source": [
    "llm=ChatGroq(model=\"deepseek-r1-distill-llama-70b\")\n",
    "print(llm.invoke(\"What is the capital of France?\").content)"
   ]
  },
  {
   "cell_type": "code",
   "execution_count": null,
   "id": "8c248803",
   "metadata": {},
   "outputs": [],
   "source": []
  }
 ],
 "metadata": {
  "kernelspec": {
   "display_name": "venv (3.12.3)",
   "language": "python",
   "name": "python3"
  },
  "language_info": {
   "codemirror_mode": {
    "name": "ipython",
    "version": 3
   },
   "file_extension": ".py",
   "mimetype": "text/x-python",
   "name": "python",
   "nbconvert_exporter": "python",
   "pygments_lexer": "ipython3",
   "version": "3.12.3"
  }
 },
 "nbformat": 4,
 "nbformat_minor": 5
}
