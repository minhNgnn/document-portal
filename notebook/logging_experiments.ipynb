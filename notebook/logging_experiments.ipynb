{
 "cells": [
  {
   "cell_type": "code",
   "execution_count": 1,
   "id": "0530a6ba",
   "metadata": {},
   "outputs": [],
   "source": [
    "import logging\n",
    "import os\n",
    "from datetime import datetime"
   ]
  },
  {
   "cell_type": "code",
   "execution_count": 2,
   "id": "c65b851f",
   "metadata": {},
   "outputs": [],
   "source": [
    "logs_dir=os.path.join(os.getcwd(),\"logs\")\n",
    "os.makedirs(logs_dir, exist_ok=True)"
   ]
  },
  {
   "cell_type": "code",
   "execution_count": 3,
   "id": "04d3a615",
   "metadata": {},
   "outputs": [],
   "source": [
    "LOG_FILE = f\"{datetime.now().strftime('%m_%d_%Y_%H_%M_%S')}.log\"\n",
    "LOG_FILE_PATH=os.path.join(logs_dir, LOG_FILE)"
   ]
  },
  {
   "cell_type": "code",
   "execution_count": 4,
   "id": "40e3ef35",
   "metadata": {},
   "outputs": [],
   "source": [
    "logging.basicConfig(\n",
    "    filename=LOG_FILE_PATH,\n",
    "    format=\"[ %(asctime)s ] %(levelname)s %(name)s (line:%(lineno)d) - %(message)s\",\n",
    "    level=logging.INFO,\n",
    ")"
   ]
  },
  {
   "cell_type": "code",
   "execution_count": 5,
   "id": "97c9ac74",
   "metadata": {},
   "outputs": [],
   "source": [
    "logger=logging.getLogger(\"DocumentPortal\")"
   ]
  },
  {
   "cell_type": "code",
   "execution_count": 6,
   "id": "65662842",
   "metadata": {},
   "outputs": [],
   "source": [
    "logger.info(\"This is an info message\")"
   ]
  }
 ],
 "metadata": {
  "kernelspec": {
   "display_name": "venv (3.12.3)",
   "language": "python",
   "name": "python3"
  },
  "language_info": {
   "codemirror_mode": {
    "name": "ipython",
    "version": 3
   },
   "file_extension": ".py",
   "mimetype": "text/x-python",
   "name": "python",
   "nbconvert_exporter": "python",
   "pygments_lexer": "ipython3",
   "version": "3.12.3"
  }
 },
 "nbformat": 4,
 "nbformat_minor": 5
}
