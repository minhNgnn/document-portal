{
 "cells": [
  {
   "cell_type": "code",
   "execution_count": 1,
   "id": "0530a6ba",
   "metadata": {},
   "outputs": [],
   "source": [
    "import logging\n",
    "import os\n",
    "from datetime import datetime"
   ]
  },
  {
   "cell_type": "code",
   "execution_count": 2,
   "id": "c65b851f",
   "metadata": {},
   "outputs": [],
   "source": [
    "logs_dir = os.path.join(os.getcwd(), \"logs\")\n",
    "os.makedirs(logs_dir, exist_ok=True)"
   ]
  },
  {
   "cell_type": "code",
   "execution_count": 3,
   "id": "04d3a615",
   "metadata": {},
   "outputs": [],
   "source": [
    "LOG_FILE = f\"{datetime.now().strftime('%m_%d_%Y_%H_%M_%S')}.log\"\n",
    "LOG_FILE_PATH = os.path.join(logs_dir, LOG_FILE)"
   ]
  },
  {
   "cell_type": "code",
   "execution_count": 4,
   "id": "40e3ef35",
   "metadata": {},
   "outputs": [],
   "source": [
    "logging.basicConfig(\n",
    "    filename=LOG_FILE_PATH,\n",
    "    format=\"[ %(asctime)s ] %(levelname)s %(name)s (line:%(lineno)d) - %(message)s\",\n",
    "    level=logging.INFO,\n",
    ")"
   ]
  },
  {
   "cell_type": "code",
   "execution_count": 5,
   "id": "97c9ac74",
   "metadata": {},
   "outputs": [],
   "source": [
    "logger = logging.getLogger(\"DocumentPortal\")"
   ]
  },
  {
   "cell_type": "code",
   "execution_count": 6,
   "id": "65662842",
   "metadata": {},
   "outputs": [],
   "source": [
    "logger.info(\"This is an info message\")"
   ]
  },
  {
   "cell_type": "code",
   "execution_count": 7,
   "id": "e1c520bf",
   "metadata": {},
   "outputs": [],
   "source": [
    "import structlog\n",
    "\n",
    "log = structlog.get_logger()"
   ]
  },
  {
   "cell_type": "code",
   "execution_count": 11,
   "id": "82d4d141",
   "metadata": {},
   "outputs": [
    {
     "name": "stdout",
     "output_type": "stream",
     "text": [
      "\u001b[2m2025-08-11 14:30:42\u001b[0m [\u001b[32m\u001b[1minfo     \u001b[0m] \u001b[1mUser uploaded a file          \u001b[0m \u001b[36mfilename\u001b[0m=\u001b[35mreport.pdf\u001b[0m \u001b[36muser_id\u001b[0m=\u001b[35m123\u001b[0m\n",
      "\u001b[2m2025-08-11 14:30:42\u001b[0m [\u001b[31m\u001b[1merror    \u001b[0m] \u001b[1mFailed to process PDF         \u001b[0m \u001b[36merror\u001b[0m=\u001b[35m'File not found'\u001b[0m \u001b[36muser_id\u001b[0m=\u001b[35m123\u001b[0m\n",
      "\u001b[2m2025-08-11 14:30:42\u001b[0m [\u001b[31m\u001b[1merror    \u001b[0m] \u001b[1mFailed to process PDF         \u001b[0m \u001b[36merror\u001b[0m=\u001b[35m'File not found'\u001b[0m \u001b[36muser_id\u001b[0m=\u001b[35m123\u001b[0m\n"
     ]
    }
   ],
   "source": [
    "log.info(\"User uploaded a file\", user_id=123, filename=\"report.pdf\")\n",
    "log.error(\"Failed to process PDF\", error=\"File not found\", user_id=123)"
   ]
  }
 ],
 "metadata": {
  "kernelspec": {
   "display_name": "venv (3.12.3)",
   "language": "python",
   "name": "python3"
  },
  "language_info": {
   "codemirror_mode": {
    "name": "ipython",
    "version": 3
   },
   "file_extension": ".py",
   "mimetype": "text/x-python",
   "name": "python",
   "nbconvert_exporter": "python",
   "pygments_lexer": "ipython3",
   "version": "3.12.3"
  }
 },
 "nbformat": 4,
 "nbformat_minor": 5
}
